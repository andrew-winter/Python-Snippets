{
 "cells": [
  {
   "cell_type": "code",
   "execution_count": null,
   "id": "processed-madagascar",
   "metadata": {},
   "outputs": [],
   "source": [
    "a = \"my string\"\n",
    "b = \"5 dollar\"\n",
    "c = \"6 cents\"\n",
    "\n",
    "# Given a string, return a list containing the characters of the string\n",
    "# If a character in the string is a space or greater than 5, remove them"
   ]
  },
  {
   "cell_type": "code",
   "execution_count": null,
   "id": "incredible-twins",
   "metadata": {},
   "outputs": [],
   "source": [
    "def str_to_list(some_string):\n",
    "    length = len(some_string)\n",
    "    the_list = []\n",
    "    # Takes a string and returns a list of its characters\n",
    "    # Don't know how to remove integers\n",
    "    \n",
    "    for i in some_string:\n",
    "        the_list.append(i)\n",
    "    for i in the_list:\n",
    "        if type(i) == int:\n",
    "            the_list.remove(i)\n",
    "    return the_list"
   ]
  },
  {
   "cell_type": "code",
   "execution_count": null,
   "id": "resident-surface",
   "metadata": {},
   "outputs": [],
   "source": [
    "print(str_to_list(a))\n",
    "\n",
    "print(str_to_list(b))\n",
    "\n",
    "print(str_to_list(c))"
   ]
  },
  {
   "cell_type": "code",
   "execution_count": null,
   "id": "meaningful-fabric",
   "metadata": {},
   "outputs": [],
   "source": [
    "l = list(range(10))\n",
    "print(l)\n",
    "# [0, 1, 2, 3, 4, 5, 6, 7, 8, 9]\n",
    "\n",
    "print([i for i in l if i == 0])"
   ]
  },
  {
   "cell_type": "code",
   "execution_count": null,
   "id": "general-wayne",
   "metadata": {},
   "outputs": [],
   "source": [
    "import re\n",
    "\n",
    "\n",
    "yourlist = ['A1K8301', 'A1K8301', 'A1K83043', 'A1H8301756' * 3, 'A1H8301745',\n",
    "            'A1H8301745', 'A1H8301', 'OTLA1K8301' 'OTLA1K8301']\n",
    "\n",
    "pattern = re.compile(r'^A1.8301$')\n",
    "matches = [x for x in yourlist if pattern.match(x)]\n",
    "\n",
    "print(matches)"
   ]
  },
  {
   "cell_type": "code",
   "execution_count": null,
   "id": "classical-starter",
   "metadata": {},
   "outputs": [],
   "source": [
    "# Above is a way to return matches with one wildcard\n",
    "# Define a function that returns index of partial matches"
   ]
  },
  {
   "cell_type": "code",
   "execution_count": null,
   "id": "spatial-confirmation",
   "metadata": {},
   "outputs": [],
   "source": [
    "some_list = ['apple', 'orange', 'banana', 'pineapple', 'my']\n",
    "some_pattern = re.compile('r[characters]')\n",
    "\n",
    "some_matches = [x for x in some_list if some_pattern.match(x)]\n",
    "\n",
    "print(some_matches)"
   ]
  },
  {
   "cell_type": "code",
   "execution_count": null,
   "id": "effective-functionality",
   "metadata": {},
   "outputs": [],
   "source": [
    "listB = ['apple', 'orange', 'banana', 'pineapple', 'my']\n",
    "patternB = re.compile('r[a-z]')\n",
    "\n",
    "print(patternB.match('a'))"
   ]
  },
  {
   "cell_type": "code",
   "execution_count": null,
   "id": "effective-romance",
   "metadata": {},
   "outputs": [],
   "source": [
    "import re\n",
    "\n",
    "p = re.compile('[a-z]+')\n",
    "p\n",
    "\n",
    "m = p.match('tempo')\n",
    "\n",
    "m.group()"
   ]
  },
  {
   "cell_type": "code",
   "execution_count": null,
   "id": "boring-python",
   "metadata": {},
   "outputs": [],
   "source": [
    "import re\n",
    "\n",
    "p = re.compile('[a-z]+')\n",
    "m = p.match('string goes here')\n",
    "if m:\n",
    "    print('Match found: ', m.group())\n",
    "else:\n",
    "    print('No match')\n",
    "    \n",
    "print(p)\n",
    "print(m)\n",
    "print(m.group())"
   ]
  },
  {
   "cell_type": "code",
   "execution_count": null,
   "id": "limited-smoke",
   "metadata": {},
   "outputs": [],
   "source": [
    "comp = re.compile('[s-z]')\n",
    "matc = comp.match('somzething')\n",
    "\n",
    "print(comp)\n",
    "\n",
    "print(matc)\n",
    "\n",
    "# This only returns 's'-- need to do more reading and examples\n",
    "matc.group()"
   ]
  },
  {
   "cell_type": "code",
   "execution_count": null,
   "id": "gorgeous-tunisia",
   "metadata": {},
   "outputs": [],
   "source": [
    "for index, item in enumerate(yourlist):\n",
    "    print(str(index))\n",
    "    print(item)"
   ]
  },
  {
   "cell_type": "code",
   "execution_count": null,
   "id": "suburban-substitute",
   "metadata": {},
   "outputs": [],
   "source": [
    " supplies = ['pens', 'staplers', 'flamethrowers', 'binders']\n",
    "for index, item in enumerate(supplies):\n",
    "    print('Index ' + str(index) + ' in supplies is: ' + item)"
   ]
  },
  {
   "cell_type": "code",
   "execution_count": null,
   "id": "selected-imagination",
   "metadata": {},
   "outputs": [],
   "source": [
    "# List comprehension\n",
    "# [expression for variable_name in interable]\n",
    "\n",
    "print([i for i in l])"
   ]
  },
  {
   "cell_type": "code",
   "execution_count": null,
   "id": "better-mouth",
   "metadata": {},
   "outputs": [],
   "source": [
    "print([i for i in str_to_list(a) if i != ' '])"
   ]
  }
 ],
 "metadata": {
  "kernelspec": {
   "display_name": "Python 3",
   "language": "python",
   "name": "python3"
  },
  "language_info": {
   "codemirror_mode": {
    "name": "ipython",
    "version": 3
   },
   "file_extension": ".py",
   "mimetype": "text/x-python",
   "name": "python",
   "nbconvert_exporter": "python",
   "pygments_lexer": "ipython3",
   "version": "3.8.7"
  }
 },
 "nbformat": 4,
 "nbformat_minor": 5
}
