{
 "cells": [
  {
   "cell_type": "code",
   "execution_count": 2,
   "id": "celtic-supervisor",
   "metadata": {},
   "outputs": [
    {
     "name": "stdout",
     "output_type": "stream",
     "text": [
      "What is 82 + 60?\n",
      "Your answer: 142\n",
      "Correct!\n",
      "What is 51 + 54?\n",
      "Your answer: 105\n",
      "Correct!\n",
      "What is 47 + 84?\n",
      "Your answer: 131\n",
      "Correct!\n",
      "Congratulations!\n"
     ]
    }
   ],
   "source": [
    "\"\"\"\n",
    "Generate simple addition problems\n",
    "Read in the answer from user, check for correctness\n",
    "Have to get three correct in a row\n",
    "\n",
    "Should probably add break or something to opt out\n",
    "\"\"\"\n",
    "\n",
    "import random\n",
    "\n",
    "def main():\n",
    "    num_correct = 0\n",
    "    while num_correct < 3:\n",
    "        a = generate_new_problem()\n",
    "        if a == True:\n",
    "            num_correct += 1\n",
    "        else:\n",
    "            num_correct = 0\n",
    "    print(\"Congratulations!\")\n",
    "\n",
    "def generate_new_problem():\n",
    "    # Asks for answer, if correct, returns True\n",
    "    # if incorrect, returns False\n",
    "    num1 = random.randint(10, 99)\n",
    "    num2 = random.randint(10, 99)\n",
    "    print(\"What is \" + str(num1) + \" + \" + str(num2) + \"?\")\n",
    "    answer = int(input(\"Your answer: \"))\n",
    "    result = num1 + num2\n",
    "    if answer == result:\n",
    "        print(\"Correct!\")\n",
    "        return True\n",
    "    else:\n",
    "        print(\"Incorrect! The expected answer is \" + str(result) + \".\")\n",
    "        return False\n",
    "    \n",
    "if __name__ == '__main__':\n",
    "    main()"
   ]
  },
  {
   "cell_type": "code",
   "execution_count": null,
   "id": "adapted-location",
   "metadata": {},
   "outputs": [],
   "source": []
  }
 ],
 "metadata": {
  "kernelspec": {
   "display_name": "Python 3",
   "language": "python",
   "name": "python3"
  },
  "language_info": {
   "codemirror_mode": {
    "name": "ipython",
    "version": 3
   },
   "file_extension": ".py",
   "mimetype": "text/x-python",
   "name": "python",
   "nbconvert_exporter": "python",
   "pygments_lexer": "ipython3",
   "version": "3.8.7"
  }
 },
 "nbformat": 4,
 "nbformat_minor": 5
}
