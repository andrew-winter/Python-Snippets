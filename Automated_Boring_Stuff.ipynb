{
 "cells": [
  {
   "cell_type": "code",
   "execution_count": null,
   "id": "entertaining-material",
   "metadata": {},
   "outputs": [],
   "source": [
    "# The purpose of this notebook is to put together some sample task automation.\n",
    "# I'll try to get more specific, and more flexible as I progress"
   ]
  },
  {
   "cell_type": "code",
   "execution_count": null,
   "id": "independent-punishment",
   "metadata": {},
   "outputs": [],
   "source": [
    "# break and continue in while loops\n",
    "# Example of logic-- check a condition and if it's not true, continue to the top of the loop\n",
    "## Since it's additionally an infinite loop, we break it at the end of the first iteration\n",
    "# Counter is wrong by the way\n",
    "TIMES_ASKED = 0\n",
    "\n",
    "while True:\n",
    "    print('What do we want to do?')\n",
    "    # First ask, since we start at 0\n",
    "    TIMES_ASKED += 1\n",
    "    answer = input()\n",
    "    if answer != 'automate the boring stuff':\n",
    "        TIMES_ASKED += 1\n",
    "        print('We want to \\'automate the boring stuff\\'')\n",
    "        continue\n",
    "    \n",
    "    print('Ready to go?')\n",
    "    hypo_answer = input()\n",
    "    \n",
    "    # Death Grips reference\n",
    "    if hypo_answer == 'lets do it':\n",
    "        print('LET\\'S DO IT!')\n",
    "    else:\n",
    "        print('Ready or not, time to go')\n",
    "    \n",
    "    print('You were asked ' + str(TIMES_ASKED) + ' times')\n",
    "    break"
   ]
  },
  {
   "cell_type": "code",
   "execution_count": null,
   "id": "likely-occupation",
   "metadata": {},
   "outputs": [],
   "source": [
    "# None represents the absence of a value\n",
    "# Behind the scenes, Python adds None to any function definition with no return\n",
    "\n",
    "var1 = print('Hello world')\n",
    "\n",
    "var1 == None"
   ]
  },
  {
   "cell_type": "code",
   "execution_count": null,
   "id": "japanese-pilot",
   "metadata": {},
   "outputs": [],
   "source": [
    "# Use the global statement to tell Python to create a global variable\n",
    "# This would fail without global, as I wouldn't assign an eggs global variable\n",
    "\n",
    "def print_eggs():\n",
    "    global eggs\n",
    "    eggs = 'eggs'\n",
    "\n",
    "print_eggs()\n",
    "\n",
    "print(eggs)"
   ]
  },
  {
   "cell_type": "code",
   "execution_count": null,
   "id": "after-strain",
   "metadata": {},
   "outputs": [],
   "source": [
    "# try and except clauses allow us to handle exceptions\n",
    "# without crashing the entire program\n",
    "\n",
    "for i in range(0, 11):\n",
    "    try:\n",
    "        print('Let\\'s divide 100 by ' + str(i))\n",
    "        print(str(100/i))\n",
    "    except ZeroDivisionError:\n",
    "        print('Error: invalid input, you divided by zero')"
   ]
  },
  {
   "cell_type": "code",
   "execution_count": null,
   "id": "diverse-deviation",
   "metadata": {},
   "outputs": [],
   "source": [
    "# A slice goes up to, but will not include, the value at the second index\n",
    "# Leaving out first index is same as using 0, leaving out last index is the same as length of the list\n",
    "\n",
    "spam = ['cat', 'bat', 'rat', 'elephant']\n",
    "\n",
    "try:\n",
    "    print(spam[4])\n",
    "except IndexError:\n",
    "    print('Error: That\\'s out of the range, b')\n",
    "    \n",
    "print(spam[0:4])\n",
    "print(spam[:3])\n",
    "print(spam[:])\n",
    "print(spam[1:])\n",
    "\n",
    "del spam[0:3]\n",
    "print(spam)"
   ]
  },
  {
   "cell_type": "code",
   "execution_count": null,
   "id": "preceding-corporation",
   "metadata": {},
   "outputs": [],
   "source": [
    "# Common Python techinque is to use range(len(someList)) with a for loop to iterate over indexes of a list\n",
    "\n",
    "supplies = ['pens', 'paper', 'beer', 'misc']\n",
    "\n",
    "for i in range(len(supplies)):\n",
    "    print('Index ' + str(i) + ' of the list supplies is ' + supplies[i])\n",
    "    \n",
    "for i in supplies:\n",
    "    print('Index ' + str(i) + ' of the list supplies is ' + 'TBD')"
   ]
  },
  {
   "cell_type": "code",
   "execution_count": null,
   "id": "future-contact",
   "metadata": {
    "scrolled": true
   },
   "outputs": [],
   "source": [
    "# Continuing Chapter 4\n",
    "\n",
    "print('Four score ' + \\\n",
    "     'and seven years ago') # line continuation character\n",
    "                            # couldn't put comment in previous line as it continued\n",
    "name = 'Drew'\n",
    "\n",
    "print(len(name))\n",
    "for i in name:\n",
    "    print(i)\n",
    "'r' in name\n",
    "\n",
    "# Tuples like lists, but immutable\n",
    "one_tup = ('one thing',)\n",
    "# one_tup[1] = 'another' -- This wouldn't work"
   ]
  },
  {
   "cell_type": "code",
   "execution_count": null,
   "id": "thrown-gnome",
   "metadata": {},
   "outputs": [],
   "source": [
    "# Lists, unlike tuples and strings, are mutable\n",
    "# When I create this inital list, I store a reference to it in the breakfast variable\n",
    "# I copy the list reference with the lunch variable, not the list value itself\n",
    "# Both references refer to the same list\n",
    "breakfast = ['apple', 'pancakes', 'yogurt']\n",
    "lunch = breakfast\n",
    "breakfast[1] = 'steak'\n",
    "\n",
    "print(lunch)\n",
    "print(id(breakfast) == id(lunch))\n",
    "\n",
    "# Functions like append(), reverse(), sort() modify lists in-place\n",
    "lunch.append('oatmeal') # rather than lunch = lunch.append('oatmeal')\n",
    "print(lunch)"
   ]
  },
  {
   "cell_type": "code",
   "execution_count": null,
   "id": "completed-attribute",
   "metadata": {},
   "outputs": [],
   "source": [
    "some_var = ['a', 'b', 'c']\n",
    "# reverse(some_var) -- NameError: name 'reverse' is not defined\n",
    "print(some_var)"
   ]
  },
  {
   "cell_type": "code",
   "execution_count": null,
   "id": "secondary-realtor",
   "metadata": {},
   "outputs": [],
   "source": [
    "# Skipping a couple chapters\n",
    "# Chapter 9 is file organization\n",
    "# Which I need.\n",
    "\n",
    "with open('readme.txt') as f:\n",
    "    lines = f.readlines()\n",
    "    \n",
    "    \n",
    "with open('the-zen-of-python.txt') as f:\n",
    "for line in f:\n",
    "    print(line)"
   ]
  },
  {
   "cell_type": "code",
   "execution_count": null,
   "id": "suffering-function",
   "metadata": {},
   "outputs": [],
   "source": [
    "from pathlib import Path\n",
    "\n",
    "myFiles = ['A.txt', 'B.txt', 'C.txt']\n",
    "\n",
    "for filename in myFiles:\n",
    "    print(Path(r'C:\\Users\\ussoc\\Documents\\technical\\python redux\\icon-tangential',filename))"
   ]
  },
  {
   "cell_type": "code",
   "execution_count": null,
   "id": "advised-designer",
   "metadata": {},
   "outputs": [],
   "source": [
    "# COnstructing a path continued a path continued\n",
    "\n",
    "from pathlib import Path\n",
    "\n",
    "Path('norm') / Path('ihop', 'denn')\n",
    "Path('spam')/'bacon'/'eggs'"
   ]
  },
  {
   "cell_type": "code",
   "execution_count": null,
   "id": "biological-webster",
   "metadata": {},
   "outputs": [],
   "source": [
    "# This function is to try a path\n",
    "def try_path(subDir, homeDir = r'C:\\Users\\Ussoc\\Documents\\Technical\\Python Redux'):\n",
    "    try:\n",
    "        # To build some path\n",
    "        Path(homeDir)/subDir\n",
    "    except TypeError:\n",
    "        # Temporary directory in the Downloads\n",
    "        return homeDir/'Downloads/Temp'\n",
    "        print('TypeError: Possibly str and str one, needs a Path object on left side of expression')"
   ]
  },
  {
   "cell_type": "code",
   "execution_count": null,
   "id": "valuable-liability",
   "metadata": {},
   "outputs": [],
   "source": [
    "try_path('new_folder2')\n",
    "\n",
    "# In Chapter 9, haven't even made it to Current Working Directory\n",
    "# This function doesn't account for it anyway\n"
   ]
  },
  {
   "cell_type": "code",
   "execution_count": null,
   "id": "micro-dragon",
   "metadata": {},
   "outputs": [],
   "source": [
    "import os\n",
    "Path.cwd()"
   ]
  },
  {
   "cell_type": "code",
   "execution_count": null,
   "id": "postal-channels",
   "metadata": {},
   "outputs": [],
   "source": [
    "import glob\n",
    "a = glob.glob('C:\\\\Users\\\\Ussoc\\\\Documents\\\\Technical\\\\')\n",
    "# I've seen glob used to great effect"
   ]
  },
  {
   "cell_type": "code",
   "execution_count": null,
   "id": "dying-journal",
   "metadata": {},
   "outputs": [],
   "source": [
    "# Path(a)\n",
    "# TypeError with lots of parts\n",
    "'''---------------------------------------------------------------------------\n",
    "TypeError                                 Traceback (most recent call last)\n",
    "<ipython-input-9-e62b09cc5b26> in <module>\n",
    "----> 1 Path(a)\n",
    "\n",
    "C:\\Python387\\Lib\\pathlib.py in __new__(cls, *args, **kwargs)\n",
    "   1039         if cls is Path:\n",
    "   1040             cls = WindowsPath if os.name == 'nt' else PosixPath\n",
    "-> 1041         self = cls._from_parts(args, init=False)\n",
    "   1042         if not self._flavour.is_supported:\n",
    "   1043             raise NotImplementedError(\"cannot instantiate %r on your system\"\n",
    "\n",
    "C:\\Python387\\Lib\\pathlib.py in _from_parts(cls, args, init)\n",
    "    680         # right flavour.\n",
    "    681         self = object.__new__(cls)\n",
    "--> 682         drv, root, parts = self._parse_args(args)\n",
    "    683         self._drv = drv\n",
    "    684         self._root = root\n",
    "\n",
    "C:\\Python387\\Lib\\pathlib.py in _parse_args(cls, args)\n",
    "    664                 parts += a._parts\n",
    "    665             else:\n",
    "--> 666                 a = os.fspath(a)\n",
    "    667                 if isinstance(a, str):\n",
    "    668                     # Force-cast str subclasses to str (issue #21127)\n",
    "\n",
    "TypeError: expected str, bytes or os.PathLike object, not list\n",
    "\n",
    "'''"
   ]
  },
  {
   "cell_type": "code",
   "execution_count": null,
   "id": "right-tribune",
   "metadata": {},
   "outputs": [],
   "source": []
  }
 ],
 "metadata": {
  "kernelspec": {
   "display_name": "Python 3",
   "language": "python",
   "name": "python3"
  },
  "language_info": {
   "codemirror_mode": {
    "name": "ipython",
    "version": 3
   },
   "file_extension": ".py",
   "mimetype": "text/x-python",
   "name": "python",
   "nbconvert_exporter": "python",
   "pygments_lexer": "ipython3",
   "version": "3.8.7"
  }
 },
 "nbformat": 4,
 "nbformat_minor": 5
}
