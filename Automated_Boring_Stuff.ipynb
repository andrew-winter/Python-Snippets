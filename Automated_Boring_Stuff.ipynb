{
 "cells": [
  {
   "cell_type": "code",
   "execution_count": 2,
   "id": "entertaining-material",
   "metadata": {},
   "outputs": [],
   "source": [
    "# The purpose of this notebook is to put together some sample task automation.\n",
    "# I'll try to get more specific, and more flexible as I progress"
   ]
  },
  {
   "cell_type": "code",
   "execution_count": 3,
   "id": "independent-punishment",
   "metadata": {},
   "outputs": [
    {
     "name": "stdout",
     "output_type": "stream",
     "text": [
      "What do we want to do?\n",
      "We want to automate the boring stuff\n",
      "We want to 'automate the boring stuff'\n",
      "What do we want to do?\n",
      "We want to 'automate the boring stuff'\n",
      "We want to 'automate the boring stuff'\n",
      "What do we want to do?\n",
      "automate the boring stuff\n",
      "Ready to go?\n",
      "lets do it\n",
      "LET'S DO IT!\n",
      "You were asked 5 times\n"
     ]
    }
   ],
   "source": [
    "# break and continue in while loops\n",
    "# Example of logic-- check a condition and if it's not true, continue to the top of the loop\n",
    "## Since it's additionally an infinite loop, we break it at the end of the first iteration\n",
    "# Counter is wrong by the way\n",
    "TIMES_ASKED = 0\n",
    "\n",
    "while True:\n",
    "    print('What do we want to do?')\n",
    "    # First ask, since we start at 0\n",
    "    TIMES_ASKED += 1\n",
    "    answer = input()\n",
    "    if answer != 'automate the boring stuff':\n",
    "        TIMES_ASKED += 1\n",
    "        print('We want to \\'automate the boring stuff\\'')\n",
    "        continue\n",
    "    \n",
    "    print('Ready to go?')\n",
    "    hypo_answer = input()\n",
    "    \n",
    "    # Death Grips reference\n",
    "    if hypo_answer == 'lets do it':\n",
    "        print('LET\\'S DO IT!')\n",
    "    else:\n",
    "        print('Ready or not, time to go')\n",
    "    \n",
    "    print('You were asked ' + str(TIMES_ASKED) + ' times')\n",
    "    break"
   ]
  },
  {
   "cell_type": "code",
   "execution_count": 4,
   "id": "likely-occupation",
   "metadata": {},
   "outputs": [
    {
     "name": "stdout",
     "output_type": "stream",
     "text": [
      "Hello world\n"
     ]
    },
    {
     "data": {
      "text/plain": [
       "True"
      ]
     },
     "execution_count": 4,
     "metadata": {},
     "output_type": "execute_result"
    }
   ],
   "source": [
    "# None represents the absence of a value\n",
    "# Behind the scenes, Python adds None to any function definition with no return\n",
    "\n",
    "var1 = print('Hello world')\n",
    "\n",
    "var1 == None"
   ]
  },
  {
   "cell_type": "code",
   "execution_count": 6,
   "id": "japanese-pilot",
   "metadata": {},
   "outputs": [
    {
     "name": "stdout",
     "output_type": "stream",
     "text": [
      "eggs\n"
     ]
    }
   ],
   "source": [
    "# Use the global statement to tell Python to create a global variable\n",
    "# This would fail without global, as I wouldn't assign an eggs global variable\n",
    "\n",
    "def print_eggs():\n",
    "    global eggs\n",
    "    eggs = 'eggs'\n",
    "\n",
    "print_eggs()\n",
    "\n",
    "print(eggs)"
   ]
  },
  {
   "cell_type": "code",
   "execution_count": null,
   "id": "after-strain",
   "metadata": {},
   "outputs": [],
   "source": [
    "# try and except clauses allow us to handle exceptions\n",
    "# without crashing the entire program\n",
    "\n",
    "for i in range(0, 11):\n",
    "    try:\n",
    "        print('Let\\'s divide 100 by ' + str(i))\n",
    "        print(str(100/i))\n",
    "    except ZeroDivisionError:\n",
    "        print('Error: invalid input, you divided by zero')"
   ]
  },
  {
   "cell_type": "code",
   "execution_count": 7,
   "id": "diverse-deviation",
   "metadata": {},
   "outputs": [
    {
     "name": "stdout",
     "output_type": "stream",
     "text": [
      "Error: That's out of the range, b\n",
      "['cat', 'bat', 'rat', 'elephant']\n",
      "['cat', 'bat', 'rat']\n",
      "['cat', 'bat', 'rat', 'elephant']\n",
      "['bat', 'rat', 'elephant']\n",
      "['elephant']\n"
     ]
    }
   ],
   "source": [
    "# A slice goes up to, but will not include, the value at the second index\n",
    "# Leaving out first index is same as using 0, leaving out last index is the same as length of the list\n",
    "\n",
    "spam = ['cat', 'bat', 'rat', 'elephant']\n",
    "\n",
    "try:\n",
    "    print(spam[4])\n",
    "except IndexError:\n",
    "    print('Error: That\\'s out of the range, b')\n",
    "    \n",
    "print(spam[0:4])\n",
    "print(spam[:3])\n",
    "print(spam[:])\n",
    "print(spam[1:])\n",
    "\n",
    "del spam[0:3]\n",
    "print(spam)"
   ]
  },
  {
   "cell_type": "code",
   "execution_count": 8,
   "id": "preceding-corporation",
   "metadata": {},
   "outputs": [
    {
     "name": "stdout",
     "output_type": "stream",
     "text": [
      "Index 0 of the list supplies is pens\n",
      "Index 1 of the list supplies is paper\n",
      "Index 2 of the list supplies is beer\n",
      "Index 3 of the list supplies is misc\n",
      "Index pens of the list supplies is TBD\n",
      "Index paper of the list supplies is TBD\n",
      "Index beer of the list supplies is TBD\n",
      "Index misc of the list supplies is TBD\n"
     ]
    }
   ],
   "source": [
    "# Common Python techinque is to use range(len(someList)) with a for loop to iterate over indexes of a list\n",
    "\n",
    "supplies = ['pens', 'paper', 'beer', 'misc']\n",
    "\n",
    "for i in range(len(supplies)):\n",
    "    print('Index ' + str(i) + ' of the list supplies is ' + supplies[i])\n",
    "    \n",
    "for i in supplies:\n",
    "    print('Index ' + str(i) + ' of the list supplies is ' + 'TBD')"
   ]
  },
  {
   "cell_type": "code",
   "execution_count": null,
   "id": "future-contact",
   "metadata": {
    "scrolled": true
   },
   "outputs": [],
   "source": [
    "# Continuing Chapter 4\n",
    "\n",
    "print('Four score ' + \\\n",
    "     'and seven years ago') # line continuation character\n",
    "                            # couldn't put comment in previous line as it continued\n",
    "name = 'Drew'\n",
    "\n",
    "print(len(name))\n",
    "for i in name:\n",
    "    print(i)\n",
    "'r' in name\n",
    "\n",
    "# Tuples like lists, but immutable\n",
    "one_tup = ('one thing',)\n",
    "# one_tup[1] = 'another' -- This wouldn't work"
   ]
  },
  {
   "cell_type": "code",
   "execution_count": 14,
   "id": "thrown-gnome",
   "metadata": {},
   "outputs": [
    {
     "name": "stdout",
     "output_type": "stream",
     "text": [
      "['apple', 'steak', 'yogurt']\n",
      "True\n",
      "['apple', 'steak', 'yogurt', 'oatmeal']\n"
     ]
    }
   ],
   "source": [
    "# Lists, unlike tuples and strings, are mutable\n",
    "# When I create this inital list, I store a reference to it in the breakfast variable\n",
    "# I copy the list reference with the lunch variable, not the list value itself\n",
    "# Both references refer to the same list\n",
    "breakfast = ['apple', 'pancakes', 'yogurt']\n",
    "lunch = breakfast\n",
    "breakfast[1] = 'steak'\n",
    "\n",
    "print(lunch)\n",
    "print(id(breakfast) == id(lunch))\n",
    "\n",
    "# Functions like append(), reverse(), sort() modify lists in-place\n",
    "lunch.append('oatmeal') # rather than lunch = lunch.append('oatmeal')\n",
    "print(lunch)"
   ]
  },
  {
   "cell_type": "code",
   "execution_count": 7,
   "id": "completed-attribute",
   "metadata": {},
   "outputs": [
    {
     "name": "stdout",
     "output_type": "stream",
     "text": [
      "{'Andrew': 26, 'Cyrille': 25, 'Opie': 4}\n",
      "('Andrew', 26)\n",
      "('Cyrille', 25)\n",
      "('Opie', 4)\n"
     ]
    }
   ],
   "source": [
    "# Chapter 5 Dictionaries and Structuring Data\n",
    "\n",
    "# A dictionary is a mutable, unordered colleciton of key-value pairs\n",
    "age_dic = {'Andrew': 26, 'Cyrille': 25, 'Opie': 4}\n",
    "print(age_dic)\n",
    "\n",
    "# When I use the below methods a for loop can iterate over the items\n",
    "# The items() method returns tuples of keys and values\n",
    "age_values = age_dic.values()\n",
    "age_keys = age_dic.keys()\n",
    "age_items = age_dic.items()\n",
    "\n",
    "for p in age_items:\n",
    "    print(p)"
   ]
  },
  {
   "cell_type": "code",
   "execution_count": 20,
   "id": "bright-cigarette",
   "metadata": {},
   "outputs": [
    {
     "name": "stdout",
     "output_type": "stream",
     "text": [
      "Daedra: Mehrunes Dagon - Item: RAZOR\n",
      "Daedra: Meridia - Item: SWORD\n",
      "Daedra: Clavicus Vile - Item: MASK\n",
      "Daedra: Shegorath - Item: STAFF\n",
      "Daedra: Molag Bal - Item: MACE\n",
      "Daedra: Peryite - Item: SHIELD\n",
      "True\n",
      "False\n",
      "True\n",
      "False\n"
     ]
    }
   ],
   "source": [
    "# Multiple assignment trick\n",
    "lemons = {'Mehrunes Dagon': 'RAZOR', 'Meridia': 'SWORD',\n",
    "          'Clavicus Vile': 'MASK', 'Shegorath': 'STAFF',\n",
    "         'Molag Bal': 'MACE', 'Peryite': 'SHIELD'}\n",
    "\n",
    "# Trick used to specify what's in the dictionary\n",
    "for f, b in lemons.items():\n",
    "    print('Daedra: ' + f + ' - Item: ' + b)\n",
    "\n",
    "print('Molag Bal' in lemons)        # Key in dict\n",
    "print('SHIELD' in lemons)           # Value not in dict\n",
    "print('SHIELD' in lemons.values())  # Value in dict.values()\n",
    "print('SHIELD' in lemons.items())   # Value not in dict.items()\n",
    "\n",
    "# Value doesn't seem to work without specifying, but key will\n",
    "print('MASK' in lemons)\n",
    "print('Clavicus Vile' in lemons)"
   ]
  },
  {
   "cell_type": "code",
   "execution_count": 36,
   "id": "needed-johnston",
   "metadata": {},
   "outputs": [
    {
     "name": "stdout",
     "output_type": "stream",
     "text": [
      "I am bringing 1 basket(s)\n",
      "I am bringing 0 salad(s)\n",
      "{'name': 'Drew', 'department': 'BIM', 'term': 90}\n",
      "{'name': 'Drew', 'department': 'BIM', 'term': 90}\n",
      "True\n"
     ]
    }
   ],
   "source": [
    "picnic_items = {'sandos': 4, 'baskets': 1}\n",
    "# get() method takes two values: value to retrieve and fallback value if key does not exist\n",
    "stat_one = 'I am bringing ' + str(picnic_items.get('baskets', 0)) + ' basket(s)'\n",
    "stat_two = 'I am bringing ' + str(picnic_items.get('salads', 0)) + ' salad(s)'\n",
    "print(stat_one)\n",
    "print(stat_two)\n",
    "\n",
    "# Two ways to set a value in a dictionary for a key, IF that key does not aleady have a value\n",
    "id_one = {'name': 'Drew', 'department': 'BIM'}\n",
    "if 'term' not in id_one:\n",
    "    id_one['term'] = 90\n",
    "print(id_one)\n",
    "\n",
    "id_two = {'name': 'Drew', 'department': 'BIM'}\n",
    "id_two.setdefault('term', 90)\n",
    "id_two.setdefault('term', 5) # Doesn't work this time, as term key already exists\n",
    "print(id_two)\n",
    "\n",
    "print(id_one == id_two)"
   ]
  },
  {
   "cell_type": "code",
   "execution_count": 3,
   "id": "cellular-major",
   "metadata": {},
   "outputs": [
    {
     "name": "stdout",
     "output_type": "stream",
     "text": [
      "{'C': 1, 'a': 2, 'n': 4, ' ': 9, 'I': 1, 'i': 4, 't': 5, 'e': 6, 'r': 2, 's': 1, 'y': 2, 'o': 2, 'u': 1, 'v': 1, 'h': 2, 'g': 1, 'l': 2, 'f': 1, 'm': 1, '?': 1}\n",
      "{' ': 9,\n",
      " '?': 1,\n",
      " 'C': 1,\n",
      " 'I': 1,\n",
      " 'a': 2,\n",
      " 'e': 6,\n",
      " 'f': 1,\n",
      " 'g': 1,\n",
      " 'h': 2,\n",
      " 'i': 4,\n",
      " 'l': 2,\n",
      " 'm': 1,\n",
      " 'n': 4,\n",
      " 'o': 2,\n",
      " 'r': 2,\n",
      " 's': 1,\n",
      " 't': 5,\n",
      " 'u': 1,\n",
      " 'v': 1,\n",
      " 'y': 2}\n"
     ]
    }
   ],
   "source": [
    "# Count each character occurrence in a string\n",
    "unique_message = 'Can I interest you in everything all of the time?'\n",
    "counts = {}\n",
    "for c in unique_message:\n",
    "    counts.setdefault(c, 0)\n",
    "    counts[c] += 1\n",
    "print(counts)\n",
    "\n",
    "import pprint\n",
    "pprint.pprint(counts)\n",
    "# Same as print(pprint.pformat(counts))"
   ]
  },
  {
   "cell_type": "code",
   "execution_count": null,
   "id": "incoming-ghana",
   "metadata": {},
   "outputs": [],
   "source": [
    "# Chapter 6"
   ]
  },
  {
   "cell_type": "code",
   "execution_count": null,
   "id": "secondary-realtor",
   "metadata": {},
   "outputs": [],
   "source": [
    "# Skipping a couple chapters\n",
    "# Chapter 9 is file organization\n",
    "# Which I need.\n",
    "\n",
    "with open('readme.txt') as f:\n",
    "    lines = f.readlines()\n",
    "    \n",
    "    \n",
    "with open('the-zen-of-python.txt') as f:\n",
    "for line in f:\n",
    "    print(line)"
   ]
  },
  {
   "cell_type": "code",
   "execution_count": null,
   "id": "suffering-function",
   "metadata": {},
   "outputs": [],
   "source": [
    "from pathlib import Path\n",
    "\n",
    "myFiles = ['A.txt', 'B.txt', 'C.txt']\n",
    "\n",
    "for filename in myFiles:\n",
    "    print(Path(r'C:\\Users\\ussoc\\Documents\\technical\\python redux\\icon-tangential',filename))"
   ]
  },
  {
   "cell_type": "code",
   "execution_count": null,
   "id": "advised-designer",
   "metadata": {},
   "outputs": [],
   "source": [
    "# COnstructing a path continued a path continued\n",
    "\n",
    "from pathlib import Path\n",
    "\n",
    "Path('norm') / Path('ihop', 'denn')\n",
    "Path('spam')/'bacon'/'eggs'"
   ]
  },
  {
   "cell_type": "code",
   "execution_count": null,
   "id": "biological-webster",
   "metadata": {},
   "outputs": [],
   "source": [
    "# This function is to try a path\n",
    "def try_path(subDir, homeDir = r'C:\\Users\\Ussoc\\Documents\\Technical\\Python Redux'):\n",
    "    try:\n",
    "        # To build some path\n",
    "        Path(homeDir)/subDir\n",
    "    except TypeError:\n",
    "        # Temporary directory in the Downloads\n",
    "        return homeDir/'Downloads/Temp'\n",
    "        print('TypeError: Possibly str and str one, needs a Path object on left side of expression')"
   ]
  },
  {
   "cell_type": "code",
   "execution_count": null,
   "id": "valuable-liability",
   "metadata": {},
   "outputs": [],
   "source": [
    "try_path('new_folder2')\n",
    "\n",
    "# In Chapter 9, haven't even made it to Current Working Directory\n",
    "# This function doesn't account for it anyway\n"
   ]
  },
  {
   "cell_type": "code",
   "execution_count": null,
   "id": "micro-dragon",
   "metadata": {},
   "outputs": [],
   "source": [
    "import os\n",
    "Path.cwd()"
   ]
  }
 ],
 "metadata": {
  "kernelspec": {
   "display_name": "Python 3",
   "language": "python",
   "name": "python3"
  },
  "language_info": {
   "codemirror_mode": {
    "name": "ipython",
    "version": 3
   },
   "file_extension": ".py",
   "mimetype": "text/x-python",
   "name": "python",
   "nbconvert_exporter": "python",
   "pygments_lexer": "ipython3",
   "version": "3.8.7"
  }
 },
 "nbformat": 4,
 "nbformat_minor": 5
}
