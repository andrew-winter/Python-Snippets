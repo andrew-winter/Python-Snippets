{
 "cells": [
  {
   "cell_type": "code",
   "execution_count": 1,
   "id": "several-answer",
   "metadata": {},
   "outputs": [],
   "source": [
    "import pprint"
   ]
  },
  {
   "cell_type": "code",
   "execution_count": 2,
   "id": "reliable-arcade",
   "metadata": {},
   "outputs": [
    {
     "name": "stdout",
     "output_type": "stream",
     "text": [
      "{'steel dagger': 1, 'steel arrow': 18, 'gold coin': 34, 'scaled armor': 1}\n",
      "Inventory: \n",
      "1 steel dagger\n",
      "18 steel arrows\n",
      "34 gold coins\n",
      "1 scaled armor\n",
      "Total number of items: 54\n"
     ]
    }
   ],
   "source": [
    "# Display inventory function that would take any possible \"inventory\"\n",
    "# from a dictionary and display it prettier\n",
    "\n",
    "bandit_inventory = {'steel dagger': 1, 'steel arrow': 18, 'gold coin': 34, 'scaled armor': 1}\n",
    "\n",
    "def display_inventory(inv):\n",
    "    # This function takes a dictionary, and returns a slightly more readable string\n",
    "    print('Inventory: ')\n",
    "    item_total = 0\n",
    "    \n",
    "    # Can loop over items to get all keys and all values\n",
    "    for ky, vl in inv.items():\n",
    "        if vl > 1:\n",
    "            print(str(vl) + ' ' + ky + 's') # plural\n",
    "        else:\n",
    "            print(str(vl) + ' ' + ky)\n",
    "        item_total += vl\n",
    "\n",
    "    print('Total number of items: ' + str(item_total))\n",
    "\n",
    "print(bandit_inventory)\n",
    "\n",
    "display_inventory(bandit_inventory)"
   ]
  },
  {
   "cell_type": "code",
   "execution_count": null,
   "id": "roman-geometry",
   "metadata": {},
   "outputs": [],
   "source": [
    "pprint.pprint(bandit_inventory)\n",
    "\n",
    "import pyperclip\n",
    "\n",
    "pyperclip.paste()"
   ]
  },
  {
   "cell_type": "code",
   "execution_count": 12,
   "id": "educational-canada",
   "metadata": {},
   "outputs": [
    {
     "name": "stdout",
     "output_type": "stream",
     "text": [
      "{'something or other': 1}\n"
     ]
    }
   ],
   "source": [
    "# I'll try adding just one item from a list to a dictionary\n",
    "foo = {}\n",
    "new_loot = ['something or other', 'another thing']\n",
    "foo.setdefault(new_loot[0], 1)\n",
    "print(foo)"
   ]
  },
  {
   "cell_type": "code",
   "execution_count": 26,
   "id": "toxic-frost",
   "metadata": {},
   "outputs": [
    {
     "name": "stdout",
     "output_type": "stream",
     "text": [
      "{'egg': 3, 'another thing': 4}\n"
     ]
    }
   ],
   "source": [
    "# Now I'll try adding to an item that already exists (count goes from 1 to 2)\n",
    "foo = {'egg': 2, 'another thing': 4}\n",
    "new_loot = ['egg', 'bacon']\n",
    "# foo.get('egg', 0)\n",
    "# this returns 2, because egg key does exist in dictionary\n",
    "\n",
    "if new_loot[0] in foo:\n",
    "    foo['egg'] = foo['egg'] + 1\n",
    "\n",
    "print(foo)\n"
   ]
  },
  {
   "cell_type": "code",
   "execution_count": 32,
   "id": "congressional-shape",
   "metadata": {},
   "outputs": [
    {
     "name": "stdout",
     "output_type": "stream",
     "text": [
      "{'egg': 3, 'another thing': 7}\n",
      "7\n"
     ]
    }
   ],
   "source": [
    "# Next, iterating over a list to add items to a dictionary\n",
    "foo = {'egg': 2, 'another thing': 4}\n",
    "new_loot = ['egg', 'bacon', 'another thing', 'another thing', 'another thing']\n",
    "\n",
    "for i in new_loot:\n",
    "    if i in foo:\n",
    "        foo[i] += 1\n",
    "        \n",
    "print(foo)\n",
    "# I was way overcomplicating this\n",
    "# I didn't want to subset foo with i, but I think this would return the value for the item"
   ]
  },
  {
   "cell_type": "code",
   "execution_count": 38,
   "id": "consistent-algeria",
   "metadata": {},
   "outputs": [
    {
     "name": "stdout",
     "output_type": "stream",
     "text": [
      "{'gold coin': 22, 'dwarven sword': 1, 'amethyst': 2, 'hide armor': 1}\n"
     ]
    }
   ],
   "source": [
    "# Below still doesn't work! What am I missing...\n",
    "foo = {'gold coin': 20, 'dwarven sword': 1}\n",
    "new_loot = ['gold coin', 'gold coin', 'amethyst', 'hide armor', 'amethyst']\n",
    "\n",
    "for i in new_loot:\n",
    "    if i in foo:\n",
    "        foo[i] += 1\n",
    "    else:\n",
    "        foo.setdefault(i, 1)\n",
    "        \n",
    "print(foo)\n",
    "# Only adds already-existing items without the else"
   ]
  },
  {
   "cell_type": "code",
   "execution_count": 42,
   "id": "generous-filter",
   "metadata": {},
   "outputs": [
    {
     "name": "stdout",
     "output_type": "stream",
     "text": [
      "{'gold coin': 22, 'dwarven sword': 1, 'amethyst': 2, 'hide armor': 1}\n"
     ]
    }
   ],
   "source": [
    "# Still having trouble- let's see if I can put the above in a function\n",
    "foo = {'gold coin': 20, 'dwarven sword': 1}\n",
    "new_loot = ['gold coin', 'gold coin', 'amethyst', 'hide armor', 'amethyst']\n",
    "\n",
    "def add_loot(inv, new_stuff):\n",
    "    for i in new_stuff:\n",
    "        if i in inv:\n",
    "            inv[i] += 1\n",
    "        else:\n",
    "            inv.setdefault(i, 1)\n",
    "    return inv\n",
    "            \n",
    "new_foo = add_loot(foo, new_loot)\n",
    "print(new_foo)\n",
    "# I think I was just missing return"
   ]
  },
  {
   "cell_type": "code",
   "execution_count": 52,
   "id": "understanding-armenia",
   "metadata": {},
   "outputs": [
    {
     "name": "stdout",
     "output_type": "stream",
     "text": [
      "['gold coin', 'gold coin', 'gold coin', 'gold coin', 'gold coin', 'gold coin', 'gold coin', 'gold coin', 'gold coin', 'gold coin', 'gold coin', 'gold coin', 'gold coin', 'gold coin', 'gold coin', 'gold coin', 'gold coin', 'gold coin', 'gold coin', 'gold coin', 'gold coin', 'gold coin', 'gold coin', 'gold coin', 'gold coin', 'gold coin', 'gold coin', 'gold coin', 'gold coin', 'gold coin', 'gold coin', 'gold coin', 'gold coin', 'gold coin', 'gold coin', 'gold coin', 'gold coin', 'gold coin', 'gold coin', 'gold coin', 'gold coin', 'gold coin', 'gold coin', 'gold coin', 'gold coin', 'gold coin', 'gold coin', 'gold coin', 'gold coin', 'gold coin']\n"
     ]
    }
   ],
   "source": [
    "# Not even part of the function, but now I want to figure out how to \n",
    "# repeat gold coin, not as a string like 'gold coingold coingold coin'\n",
    "# but multiple strings in the same list\n",
    "\n",
    "barrows_gold = ['gold coin'] * 50\n",
    "# barrows_loot.extend(barrows_gold)\n",
    "\n",
    "print(barrows_gold)\n",
    "# Still a list within a list"
   ]
  },
  {
   "cell_type": "code",
   "execution_count": 55,
   "id": "exciting-response",
   "metadata": {},
   "outputs": [
    {
     "name": "stdout",
     "output_type": "stream",
     "text": [
      "{'gold coin': 73, 'dragonbone armor': 1}\n",
      "{'gold coin': 174, 'dragonbone armor': 1, 'ebony dagger': 1, 'flawless ruby': 1}\n",
      "Inventory: \n",
      "174 gold coins\n",
      "1 dragonbone armor\n",
      "1 ebony dagger\n",
      "1 flawless ruby\n",
      "Total number of items: 177\n"
     ]
    }
   ],
   "source": [
    "# List to dictionary function for game inventory\n",
    "\n",
    "my_inventory = {'gold coin': 73, 'dragonbone armor': 1}\n",
    "print(my_inventory)\n",
    "\n",
    "barrows_loot = ['gold coin', 'ebony dagger', 'flawless ruby']\n",
    "barrows_gold = ['gold coin'] * 100\n",
    "barrows_loot.extend(barrows_gold)\n",
    "# There's gotta be a list comprehension or some easier way to do this\n",
    "\n",
    "\n",
    "def add_to_inventory(inv, new_items):\n",
    "    # This function iterates over a list, and adds those items to a dictionary\n",
    "    for i in new_items:\n",
    "        if i in inv:\n",
    "            inv[i] += 1\n",
    "        else:\n",
    "            inv.setdefault(i, 1)\n",
    "    return inv\n",
    "\n",
    "my_inventory = add_to_inventory(my_inventory, barrows_loot)\n",
    "\n",
    "print(my_inventory)\n",
    "display_inventory(my_inventory)"
   ]
  }
 ],
 "metadata": {
  "kernelspec": {
   "display_name": "Python 3",
   "language": "python",
   "name": "python3"
  },
  "language_info": {
   "codemirror_mode": {
    "name": "ipython",
    "version": 3
   },
   "file_extension": ".py",
   "mimetype": "text/x-python",
   "name": "python",
   "nbconvert_exporter": "python",
   "pygments_lexer": "ipython3",
   "version": "3.8.7"
  }
 },
 "nbformat": 4,
 "nbformat_minor": 5
}
