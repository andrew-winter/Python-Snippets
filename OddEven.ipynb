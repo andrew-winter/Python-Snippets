{
 "cells": [
  {
   "cell_type": "code",
   "execution_count": null,
   "id": "familiar-exclusion",
   "metadata": {},
   "outputs": [],
   "source": [
    "# Odd or even\n",
    "# This simple program tells you whether your input is odd or even\n",
    "\n",
    "x = input(\"Please provide a number between 1 and 1000: \")\n",
    "\n",
    "# Chose a float type because below code works for floats or integers\n",
    "# If below code tried to set to an integer type, wouldn't accept a float input\n",
    "try:\n",
    "    y = float(x)\n",
    "except ValueError:\n",
    "    print(\"That's not a number! Let's pretend you said 2.\")\n",
    "    y = 2.0"
   ]
  },
  {
   "cell_type": "code",
   "execution_count": null,
   "id": "emotional-induction",
   "metadata": {},
   "outputs": [],
   "source": [
    "if y < 1 or y > 1000:\n",
    "    print(\"That's out of range!\")\n",
    "else:\n",
    "    z = y % 2"
   ]
  },
  {
   "cell_type": "code",
   "execution_count": null,
   "id": "unlimited-olympus",
   "metadata": {},
   "outputs": [],
   "source": [
    "if z == 0:\n",
    "    print(\"Your input, \" + str(y) + \" is even.\")\n",
    "else:\n",
    "    print(\"Your input, \" + str(y) + \" is odd.\")\n",
    "    \n",
    "# To add: want to account for whether there's a float or integer intially inputted\n",
    "# Also: if I run the whole thing and the input is out of the range, I get a NameError for z\n",
    "# Also: try to do the same thing for prime numbers"
   ]
  }
 ],
 "metadata": {
  "kernelspec": {
   "display_name": "Python 3",
   "language": "python",
   "name": "python3"
  },
  "language_info": {
   "codemirror_mode": {
    "name": "ipython",
    "version": 3
   },
   "file_extension": ".py",
   "mimetype": "text/x-python",
   "name": "python",
   "nbconvert_exporter": "python",
   "pygments_lexer": "ipython3",
   "version": "3.8.7"
  }
 },
 "nbformat": 4,
 "nbformat_minor": 5
}
